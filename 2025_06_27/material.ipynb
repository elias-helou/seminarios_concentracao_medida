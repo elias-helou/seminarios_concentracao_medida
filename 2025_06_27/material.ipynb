{
 "cells": [
  {
   "cell_type": "markdown",
   "id": "fc67f2ca",
   "metadata": {},
   "source": [
    "<h1 style =  'text-align: center;'>\n",
    "1. Exact Signal Reconstruction From Highly Incomplete Frequency Information\n",
    "</h1>\n"
   ]
  },
  {
   "cell_type": "markdown",
   "id": "073017e2",
   "metadata": {},
   "source": [
    "Um intrigante e surpreendente resultado de 2006 por Candès, Romberg e Tao é o seguinte.\n",
    "\n",
    "Sejam $\\bm x \\in \\mathbb R^n$ e $F \\in \\mathbb R^{n \\times n}$, onde\n",
    "$$\n",
    "    \\hat{\\bm x} = F\\bm x\n",
    "$$\n",
    "é a DFT de $\\bm x$.\n",
    "\n",
    "Seja $T$ inteiro positivo e $M > 0$, então existe $C_M > 0$ tal que, se\n",
    "$$\n",
    "    \\| \\bm x \\|_0 \\le \\frac{C_MT}{\\log n}\n",
    "$$\n",
    "e $\\Omega \\subset \\{ 1, 2, \\dots, n \\}$ for escolhido ao acaso com $|\\Omega| = T$, então a solução $\\bm y^*$ de\n",
    "\\begin{align*}\n",
    "    \\min_{\\bm y}        & \\quad \\| \\bm y \\|_1 \\\\\n",
    "    \\text{s.a:} & \\quad ( F\\bm y )_i = ( F\\bm x )_i \\quad i \\in \\Omega,\n",
    "\\end{align*}\n",
    "será tal que $\\bm y^* = \\bm x$ com probabilidade maior ou igual a\n",
    "$$\n",
    "    1 - O( n^{-M} ).\n",
    "$$"
   ]
  },
  {
   "cell_type": "markdown",
   "id": "6d2769f8",
   "metadata": {},
   "source": [
    "👍  $T$ pode ser muito menor do que $n$\n",
    "\n",
    "👍  a reconstrução é obtida através de um problema de otimização convexa\n",
    "\n",
    "👍  funciona muito bem em muitos casos e impressiona\n",
    "\n",
    "👎  o resultado é um pouco \"bagunçado\"\n",
    "\n",
    "👎  o primeiro exemplo numérico do paper não corresponde exatamente a nenhum dos teoremas"
   ]
  },
  {
   "cell_type": "markdown",
   "id": "c066e18c",
   "metadata": {},
   "source": [
    "# 2. Restricted Isometry Property (RIP)\n",
    "\n",
    "Dada uma matriz $F\\in \\mathbb R^{m \\times n}$ e um conjunto $\\Omega \\subset \\{ 1, 2, \\dots, n \\}$, definimos $F_{\\Omega}$ como a matriz obtida com as colunas de $F$ correspondentes aos índices contidos em $\\Omega$.\n",
    "\n",
    "Dado $S \\le n$, defina $\\delta_S$ como a menor constante tal que\n",
    "$$\n",
    "    (1 - \\delta_S)\\|\\bm x\\|^2 \\le \\|F_{\\Omega}\\bm x\\|^2 \\le (1 + \\delta_S)\\|\\bm x\\|^2\n",
    "$$\n",
    "para todo $\\Omega \\subset \\{ 1, 2, \\dots, n \\}$ com $| \\Omega | \\le S$ e $\\bm x \\in \\mathbb R^{| \\Omega |}$.\n",
    "\n",
    "Observe que se $F$ é ortonormal, então $\\delta_S = 0$."
   ]
  },
  {
   "cell_type": "markdown",
   "id": "1b7ca458",
   "metadata": {},
   "source": [
    "De forma similar, definimos, para $S + S' \\le n$, $\\theta_{S,S'}$ como a menor quantidade que satisfaz\n",
    "$$\n",
    "    |\\langle F_{\\Omega}\\bm x, F_{\\Omega'}\\bm x'\\rangle| \\le \\theta_{S, S'}\\|\\bm x\\|\\|\\bm x'\\|\n",
    "$$\n",
    "para todos conjuntos disjuntos $\\Omega, \\Omega' \\subseteq \\{ 1, 2, \\dots, n \\}$ com $| \\Omega | \\le S$ e $| \\Omega' | \\le S'$.\n",
    "\n",
    "Novamente, se $F$ é ortonormal, então $\\theta_{S,S'} = 0$.\n",
    "\n",
    "Dizemos que $F$ satisfaz uma $S$-RIP se\n",
    "$$\n",
    "    \\delta_S + \\theta_{S, S} + \\theta_{S, 2S} < 1.\n",
    "$$"
   ]
  },
  {
   "cell_type": "markdown",
   "id": "856a789e",
   "metadata": {},
   "source": [
    "Candè e Tao provaram que se $F$ satisfaz uma $S$-RIP e $\\| \\bm x \\|_0 \\le S$, então $\\bm x$ é a única solução de\n",
    "\\begin{align*}\n",
    "    \\min_{\\bm y}        & \\quad \\| \\bm y \\|_1 \\\\\n",
    "    \\text{s.a:} & \\quad F\\bm y = F\\bm x.\n",
    "\\end{align*}"
   ]
  },
  {
   "cell_type": "markdown",
   "id": "04b5d7f1",
   "metadata": {},
   "source": [
    "<h1 style =  'text-align: center;'>\n",
    "3. A Simple Proof of the Restricted Isometry Property for Random Matrices\n",
    "</h1>\n"
   ]
  },
  {
   "cell_type": "markdown",
   "id": "e5d3414c",
   "metadata": {},
   "source": [
    "### Baraniuk, Davenport, DeVore e Wakin"
   ]
  },
  {
   "cell_type": "markdown",
   "id": "c46a0441",
   "metadata": {},
   "source": [
    "<div style = \"text-align: center\">\n",
    "    <img src = \"abstract_baraniuk.png\" width = \"75%\" style = \"border: solid; border-radius: 10px\"></img>\n",
    "</div>"
   ]
  },
  {
   "cell_type": "markdown",
   "id": "4fce2a26",
   "metadata": {},
   "source": [
    "<div style = \"text-align: center\">\n",
    "    <img src = \"JL.png\" width = \"75%\" style = \"border: solid; border-radius: 10px\"></img>\n",
    "</div>"
   ]
  },
  {
   "cell_type": "markdown",
   "id": "668ba091",
   "metadata": {},
   "source": []
  }
 ],
 "metadata": {
  "language_info": {
   "name": "python"
  }
 },
 "nbformat": 4,
 "nbformat_minor": 5
}
