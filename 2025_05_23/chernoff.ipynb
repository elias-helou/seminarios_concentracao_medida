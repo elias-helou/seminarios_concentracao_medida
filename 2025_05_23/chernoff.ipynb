{
 "cells": [
  {
   "cell_type": "markdown",
   "metadata": {},
   "source": [
    "<h1 style = 'text-align: center;'><b>Seminários de Concentração da Medida</b></h1>"
   ]
  },
  {
   "cell_type": "markdown",
   "metadata": {},
   "source": [
    "<h1 style = 'text-align: center;'>O Limitante de Chernoff</h1>\n",
    "\n",
    "por **Elias Helou**\n",
    "\n",
    "**ICMC/USP - São Carlos SP**\n",
    "\n",
    "23 de maio de 2025\n"
   ]
  },
  {
   "cell_type": "markdown",
   "metadata": {
    "vscode": {
     "languageId": "plaintext"
    }
   },
   "source": [
    "## Objetivos da Série de Seminários\n",
    "\n",
    "- Iniciar um diálogo sobre matemática\n",
    "\n",
    "- Aprender sobre o fenômeno de concentração da medida\n",
    "\n",
    "- Resolver uma questão aberta em problemas inversos\n",
    "\n",
    "- Publicar *papers*"
   ]
  },
  {
   "cell_type": "markdown",
   "metadata": {},
   "source": [
    "## Concentração da Medida\n",
    "\n",
    "Fiquemos com as palavras de Michel Talagrand\n",
    "\n",
    "<div style = \"text-align: center\">\n",
    "    <img src = \"Talagrand_AoP_1.png\" width = \"75%\" style = \"border: solid; border-radius: 10px\"></img>\n",
    "</div>"
   ]
  },
  {
   "cell_type": "markdown",
   "metadata": {},
   "source": [
    "Não iremos seguir este artigo hoje, mas vejamos mais um pouco dele\n",
    "\n",
    "<div style = \"text-align: center\">\n",
    "    <img src = \"Talagrand_AoP_2.png\" width = \"75%\" style = \"border: solid; border-radius: 10px\"></img>\n",
    "</div>"
   ]
  },
  {
   "cell_type": "markdown",
   "metadata": {},
   "source": [
    "## Um Exemplo Numérico\n",
    "\n",
    "Uma classe de funções que dependem suavemente de muitas variáveis (mas não muito de nenhuma delas) são as normas matriciais. Por exemplo, a norma nuclear de uma matriz é a soma de seus valores singulares:\n",
    "$$\n",
    "    \\| A \\|_* = \\sum_{i = 1}^n\\sigma_i.\n",
    "$$"
   ]
  },
  {
   "cell_type": "code",
   "execution_count": 2,
   "metadata": {},
   "outputs": [
    {
     "name": "stdout",
     "output_type": "stream",
     "text": [
      "22901.099144933534\n",
      "22899.38599136986\n",
      "22900.637996042075\n",
      "22896.80524723787\n",
      "22898.35077745669\n",
      "22896.642052841886\n",
      "22898.75341158368\n",
      "22901.60261310276\n",
      "22895.07970669119\n",
      "22902.081779733144\n",
      "22907.442163083215\n",
      "22905.510545531004\n",
      "22895.3172596318\n",
      "22905.003781098672\n",
      "22907.709499567747\n",
      "22895.8111742466\n",
      "22901.127229781734\n",
      "22897.962982363555\n",
      "22901.24395468391\n",
      "22906.434295497653\n",
      "22906.124198267924\n",
      "22904.12842263676\n",
      "22908.962369022065\n",
      "22897.70114418237\n",
      "22898.641996549304\n",
      "22904.25748100465\n",
      "22901.267074969222\n",
      "22890.353640533103\n",
      "22897.30781858991\n",
      "22898.126936765264\n",
      "22891.834060833437\n",
      "22903.06975588246\n",
      "22906.79701212726\n",
      "22909.6402663517\n",
      "22897.898054654142\n",
      "22906.06808201738\n",
      "22904.798023523304\n",
      "22900.185213117686\n",
      "22900.311699188554\n",
      "22900.57062201397\n",
      "22904.939474434334\n",
      "22899.07573038323\n",
      "22894.765299338454\n",
      "22897.767373482533\n",
      "22894.799844072004\n",
      "22899.193281435524\n",
      "22905.780285995934\n",
      "22897.478214564082\n",
      "22892.5464270905\n",
      "22897.075955156535\n",
      "22898.351790999663\n",
      "22901.615129043497\n",
      "22907.152202861143\n",
      "22899.673501730795\n",
      "22898.296801311262\n",
      "22900.15522156203\n",
      "22899.07358410129\n",
      "22894.05937070416\n",
      "22898.73266696429\n",
      "22896.948659065092\n",
      "22908.885251772022\n",
      "22899.799076031544\n",
      "22890.56872197517\n",
      "22907.238509096554\n",
      "22899.799980566062\n",
      "22895.755673634296\n",
      "22891.26292713882\n",
      "22897.28588129364\n",
      "22903.35146961898\n",
      "22886.15840193456\n",
      "22897.36499930755\n",
      "22903.956411651194\n",
      "22911.85974784394\n",
      "22900.89988447178\n",
      "22894.20416798001\n",
      "22912.457864128974\n",
      "22902.52778430318\n",
      "22906.41152494096\n",
      "22894.80487319538\n",
      "22894.827485182872\n",
      "22900.381011474747\n",
      "22908.888110003867\n",
      "22896.92791951589\n",
      "22899.89859147601\n",
      "22893.292530318045\n",
      "22906.08409193118\n",
      "22890.46715531271\n",
      "22893.573284367263\n",
      "22910.91872875058\n",
      "22898.27435331328\n",
      "22891.607695958803\n",
      "22902.329396830668\n",
      "22897.223458235596\n",
      "22892.73381399592\n",
      "22894.311242061383\n",
      "22908.63488825849\n",
      "22894.74936578849\n",
      "22902.77012893358\n",
      "22889.13511601538\n",
      "22891.549406364364\n",
      "22886.15840193456\n",
      "22912.457864128974\n"
     ]
    }
   ],
   "source": [
    "import numpy as np\n",
    "\n",
    "n = 2000\n",
    "N = 100\n",
    "\n",
    "norms = []\n",
    "for i in range( N ):\n",
    "\n",
    "    norms.append( np.linalg.norm( np.random.uniform( size = ( n, n ) ), 'nuc' ) )\n",
    "    print( norms[ -1 ] )\n",
    "\n",
    "print( min( norms ) )\n",
    "print( max( norms ) )"
   ]
  },
  {
   "cell_type": "markdown",
   "metadata": {},
   "source": [
    "O desenvolvimento a seguir segue o primeiro capítulo da seguinte referência\n",
    "\n",
    "<div style = \"text-align: center\">\n",
    "    <img src = \"dubbashi_panconesi_cover.png\" height = \"500cm\" style = \"border: solid; border-radius: 10px\"></img>\n",
    "</div>"
   ]
  },
  {
   "cell_type": "markdown",
   "metadata": {},
   "source": [
    "## O Limitante de Chernoff\n",
    "\n",
    "O exemplo mais simples de concentração em torno da média ocorre com a soma de variáveis de Bernoulli:\n",
    "$$\n",
    "P( X = 1 ) = p,\n",
    "$$\n",
    "$$\n",
    "P( X = 0 ) = 1 - p.\n",
    "$$"
   ]
  },
  {
   "cell_type": "markdown",
   "metadata": {},
   "source": [
    "Neste caso, vale o conhecido limitante de Chernoff. A ideia é estudar o valor de\n",
    "$$\n",
    "    f( t ) = P\\left( \\sum_{i = 1}^nX_i \\ge (p + t)n \\right)\n",
    "$$"
   ]
  },
  {
   "cell_type": "markdown",
   "metadata": {},
   "source": []
  }
 ],
 "metadata": {
  "kernelspec": {
   "display_name": "Python 3",
   "language": "python",
   "name": "python3"
  },
  "language_info": {
   "codemirror_mode": {
    "name": "ipython",
    "version": 3
   },
   "file_extension": ".py",
   "mimetype": "text/x-python",
   "name": "python",
   "nbconvert_exporter": "python",
   "pygments_lexer": "ipython3",
   "version": "3.10.12"
  }
 },
 "nbformat": 4,
 "nbformat_minor": 2
}
