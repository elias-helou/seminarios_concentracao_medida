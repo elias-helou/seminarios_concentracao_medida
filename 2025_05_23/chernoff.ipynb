{
 "cells": [
  {
   "cell_type": "markdown",
   "metadata": {},
   "source": [
    "<h1 style = 'text-align: center;'><b>Seminários de Concentração da Medida</b></h1>"
   ]
  },
  {
   "cell_type": "markdown",
   "metadata": {},
   "source": [
    "<h1 style = 'text-align: center;'>O Limitante de Chernoff</h1>\n",
    "\n",
    "por **Elias Helou**\n",
    "\n",
    "**ICMC/USP - São Carlos SP**\n",
    "\n",
    "23 de maio de 2025\n"
   ]
  },
  {
   "cell_type": "markdown",
   "metadata": {
    "vscode": {
     "languageId": "plaintext"
    }
   },
   "source": [
    "## Objetivos da Série de Seminários\n",
    "\n",
    "- Iniciar um diálogo sobre matemática\n",
    "\n",
    "- Aprender sobre o fenômeno de concentração da medida\n",
    "\n",
    "- Resolver uma questão aberta em problemas inversos\n",
    "\n",
    "- Publicar *papers*"
   ]
  },
  {
   "cell_type": "markdown",
   "metadata": {},
   "source": [
    "## Concentração da Medida\n",
    "\n",
    "Fiquemos com as palavras de Michel Talagrand\n",
    "\n",
    "<div style = \"text-align: center\">\n",
    "    <img src = \"Talagrand_AoP_1.png\" width = \"75%\" style = \"border: solid; border-radius: 10px\"></img>\n",
    "</div>"
   ]
  },
  {
   "cell_type": "markdown",
   "metadata": {},
   "source": [
    "Não iremos seguir este artigo hoje, mas vejamos mais um pouco dele\n",
    "\n",
    "<div style = \"text-align: center\">\n",
    "    <img src = \"Talagrand_AoP_2.png\" width = \"75%\" style = \"border: solid; border-radius: 10px\"></img>\n",
    "</div>"
   ]
  },
  {
   "cell_type": "markdown",
   "metadata": {},
   "source": [
    "## Um Exemplo Numérico\n",
    "\n",
    "Uma classe de funções que dependem suavemente de muitas variáveis (mas não muito de nenhuma delas) são as normas matriciais. Por exemplo, a norma nuclear de uma matriz é a soma de seus valores singulares:\n",
    "$$\n",
    "    \\| A \\|_* = \\sum_{i = 1}^n\\sigma_i.\n",
    "$$"
   ]
  },
  {
   "cell_type": "code",
   "execution_count": 6,
   "metadata": {},
   "outputs": [
    {
     "name": "stdout",
     "output_type": "stream",
     "text": [
      "26872.44559475358\n",
      "26819.051091853944\n",
      "26818.517339688227\n",
      "26838.57822613564\n",
      "26819.83617608912\n",
      "26855.139930626065\n",
      "26824.75133843151\n",
      "26845.358479532202\n",
      "26842.365937212013\n",
      "26844.15990402268\n",
      "26861.385861971416\n",
      "26795.05241577355\n",
      "26824.48040220818\n",
      "26833.381197625582\n",
      "26856.12556988748\n",
      "26869.16783113098\n",
      "26839.18833684591\n",
      "26842.231292658336\n",
      "26831.663227116638\n",
      "26862.556700411085\n",
      "26840.280016910667\n",
      "26817.22907971617\n",
      "26825.514383014874\n",
      "26844.64235363939\n",
      "26815.032636301614\n",
      "26812.706298351834\n",
      "26837.070591898024\n",
      "26832.08343346732\n",
      "26864.015371807367\n",
      "26805.384182739355\n",
      "26813.003117237036\n",
      "26825.873297203238\n",
      "26818.27553259072\n",
      "26872.103313017684\n",
      "26863.08720617298\n",
      "26826.063961164473\n",
      "26811.636391393942\n",
      "26851.152541399126\n",
      "26819.202731660167\n",
      "26865.12816347694\n",
      "26812.847907039402\n",
      "26821.26232791071\n",
      "26856.272118356195\n",
      "26834.649609182154\n",
      "26844.266743351127\n",
      "26822.672580869283\n",
      "26855.77113505838\n",
      "26837.974651867222\n",
      "26827.265636206193\n",
      "26835.728150609568\n",
      "26856.37167845238\n",
      "26841.7826679372\n",
      "26829.75174661082\n",
      "26823.675733601893\n",
      "26835.75954589704\n",
      "26895.450451576988\n",
      "26845.64521629399\n",
      "26848.868243748824\n",
      "26822.991186573483\n",
      "26832.664006672014\n",
      "26844.76396683193\n",
      "26853.6828143874\n",
      "26863.903381811513\n",
      "26832.420794037993\n",
      "26840.867841871986\n",
      "26813.836955597042\n",
      "26847.703543197294\n",
      "26847.772331220775\n",
      "26849.779033854815\n",
      "26827.79863546385\n",
      "26833.170972513923\n",
      "26827.56441597372\n",
      "26840.31362974768\n",
      "26815.947987118227\n",
      "26817.02559169335\n",
      "26840.781883845008\n",
      "26842.51052277646\n",
      "26868.36041784911\n",
      "26879.052692806676\n",
      "26834.153480272387\n",
      "26835.578955120553\n",
      "26855.221600270714\n",
      "26843.954889798522\n",
      "26822.250647367582\n",
      "26862.207623160837\n",
      "26878.88464786297\n",
      "26867.580068754207\n",
      "26826.986523207386\n",
      "26828.88361311175\n",
      "26819.09384645544\n",
      "26870.981063467058\n",
      "26863.333429494025\n",
      "26831.791938925973\n",
      "26841.9158584626\n",
      "26798.163034274716\n",
      "26838.732548248336\n",
      "26858.473187249307\n",
      "26802.72690851474\n",
      "26861.59686518537\n",
      "26849.99802109136\n",
      "26795.05241577355\n",
      "26895.450451576988\n"
     ]
    }
   ],
   "source": [
    "import numpy as np\n",
    "\n",
    "n = 1000\n",
    "N = 100\n",
    "\n",
    "norms = []\n",
    "for i in range( N ):\n",
    "\n",
    "    norms.append( np.linalg.norm( np.random.normal( size = ( n, n ) ), 'nuc' ) )\n",
    "    print( norms[ -1 ] )\n",
    "\n",
    "print( min( norms ) )\n",
    "print( max( norms ) )"
   ]
  },
  {
   "cell_type": "markdown",
   "metadata": {},
   "source": [
    "O desenvolvimento a seguir segue o primeiro capítulo da seguinte referência\n",
    "\n",
    "<div style = \"text-align: center\">\n",
    "    <img src = \"dubbashi_panconesi_cover.png\" height = \"500cm\" style = \"border: solid; border-radius: 10px\"></img>\n",
    "</div>"
   ]
  },
  {
   "cell_type": "markdown",
   "metadata": {},
   "source": [
    "## O Limitante de Chernoff\n",
    "\n",
    "O exemplo mais simples de concentração em torno da média ocorre com a soma de variáveis de Bernoulli:\n",
    "$$\n",
    "P( X = 1 ) = p.\n",
    "$$"
   ]
  },
  {
   "cell_type": "markdown",
   "metadata": {},
   "source": [
    "Neste caso, vale o conhecido limitante de Chernoff. A ideia é estudar o valor de\n",
    "$$\n",
    "    f( t ) = P\\left( \\sum_{i = 1}^nX_i \\ge (p + t)n \\right)\n",
    "$$"
   ]
  },
  {
   "cell_type": "markdown",
   "metadata": {},
   "source": []
  }
 ],
 "metadata": {
  "kernelspec": {
   "display_name": "Python 3",
   "language": "python",
   "name": "python3"
  },
  "language_info": {
   "codemirror_mode": {
    "name": "ipython",
    "version": 3
   },
   "file_extension": ".py",
   "mimetype": "text/x-python",
   "name": "python",
   "nbconvert_exporter": "python",
   "pygments_lexer": "ipython3",
   "version": "3.10.12"
  }
 },
 "nbformat": 4,
 "nbformat_minor": 2
}
